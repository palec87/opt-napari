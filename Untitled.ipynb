{
 "cells": [
  {
   "cell_type": "code",
   "execution_count": 1,
   "id": "950fbffc-cb85-4f5d-9622-2acb71fd7281",
   "metadata": {},
   "outputs": [],
   "source": [
    "## testing for napari widget"
   ]
  },
  {
   "cell_type": "code",
   "execution_count": 11,
   "id": "517ca13d-39f4-44c7-bdcb-aa9674891064",
   "metadata": {},
   "outputs": [
    {
     "ename": "ValueError",
     "evalue": "too many values to unpack (expected 2)",
     "output_type": "error",
     "traceback": [
      "\u001b[1;31m---------------------------------------------------------------------------\u001b[0m",
      "\u001b[1;31mValueError\u001b[0m                                Traceback (most recent call last)",
      "Cell \u001b[1;32mIn[11], line 2\u001b[0m\n\u001b[0;32m      1\u001b[0m a \u001b[38;5;241m=\u001b[39m (\u001b[38;5;241m4\u001b[39m, \u001b[38;5;241m5.5\u001b[39m, \u001b[38;5;241m6\u001b[39m)\n\u001b[1;32m----> 2\u001b[0m b, c \u001b[38;5;241m=\u001b[39m [\u001b[38;5;28mint\u001b[39m(k) \u001b[38;5;28;01mfor\u001b[39;00m k \u001b[38;5;129;01min\u001b[39;00m a]\n",
      "\u001b[1;31mValueError\u001b[0m: too many values to unpack (expected 2)"
     ]
    }
   ],
   "source": [
    "a = (4, 5.5, 6)\n",
    "b, c = [int(k) for k in a]"
   ]
  },
  {
   "cell_type": "code",
   "execution_count": 10,
   "id": "328bb829-fc05-4298-ad56-f6e3b0953b40",
   "metadata": {},
   "outputs": [
    {
     "data": {
      "text/plain": [
       "(int, int)"
      ]
     },
     "execution_count": 10,
     "metadata": {},
     "output_type": "execute_result"
    }
   ],
   "source": [
    "type(b), type(c)"
   ]
  },
  {
   "cell_type": "code",
   "execution_count": 12,
   "id": "972772f2-3be9-4523-9fcf-f34e72dff581",
   "metadata": {},
   "outputs": [],
   "source": [
    "import numpy as np"
   ]
  },
  {
   "cell_type": "code",
   "execution_count": 15,
   "id": "8e587961-3a0a-452d-9fc4-1a188e31e0d3",
   "metadata": {},
   "outputs": [],
   "source": [
    "a = np.ones((3, 3, 3, 3))\n",
    "b = np.ones((3, 3))"
   ]
  },
  {
   "cell_type": "code",
   "execution_count": 17,
   "id": "069e6f59-2b94-43e1-a1ec-d28289cf4ad1",
   "metadata": {},
   "outputs": [
    {
     "data": {
      "text/plain": [
       "(2, 2, 3)"
      ]
     },
     "execution_count": 17,
     "metadata": {},
     "output_type": "execute_result"
    }
   ],
   "source": [
    "a[-1, :2, :2].shape"
   ]
  },
  {
   "cell_type": "code",
   "execution_count": null,
   "id": "0a3544b0-9017-4daa-bec0-469aa17e007c",
   "metadata": {},
   "outputs": [],
   "source": []
  }
 ],
 "metadata": {
  "kernelspec": {
   "display_name": "tomopy",
   "language": "python",
   "name": "tomopy"
  },
  "language_info": {
   "codemirror_mode": {
    "name": "ipython",
    "version": 3
   },
   "file_extension": ".py",
   "mimetype": "text/x-python",
   "name": "python",
   "nbconvert_exporter": "python",
   "pygments_lexer": "ipython3",
   "version": "3.11.6"
  }
 },
 "nbformat": 4,
 "nbformat_minor": 5
}
