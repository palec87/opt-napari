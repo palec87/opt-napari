{
 "cells": [
  {
   "cell_type": "code",
   "execution_count": 1,
   "id": "9b1a6212-5efe-4e35-8d80-3dada4bac23e",
   "metadata": {},
   "outputs": [
    {
     "name": "stderr",
     "output_type": "stream",
     "text": [
      "napari.manifest -> 'napari-correctDark' could not be imported: Cannot find module 'napari_correctDark' declared in entrypoint: 'napari_correctDark:napari.yaml'\n",
      "napari.manifest -> 'napari-fbpCPU' could not be imported: Cannot find module 'napari_fbpCPU' declared in entrypoint: 'napari_fbpCPU:napari.yaml'\n",
      "napari.manifest -> 'napari-selectROI' could not be imported: Cannot find module 'napari_selectROI' declared in entrypoint: 'napari_selectROI:napari.yaml'\n"
     ]
    },
    {
     "data": {
      "text/plain": [
       "<napari._qt.widgets.qt_viewer_dock_widget.QtViewerDockWidget at 0x20e450df9a0>"
      ]
     },
     "execution_count": 1,
     "metadata": {},
     "output_type": "execute_result"
    }
   ],
   "source": [
    "import napari\n",
    "from _qtwidget import PreprocessingnWidget\n",
    "from skimage import data\n",
    "\n",
    "viewer = napari.Viewer()\n",
    "viewer.add_image(data.camera(), name=\"camera\")\n",
    "viewer.add_image(data.camera(), name=\"camera1\")\n",
    "\n",
    "widget = PreprocessingnWidget(viewer)\n",
    "viewer.window.add_dock_widget(widget, area=\"right\")"
   ]
  },
  {
   "cell_type": "code",
   "execution_count": 1,
   "id": "d64340dc-acd9-4783-9b7b-d1d717a14fe9",
   "metadata": {},
   "outputs": [],
   "source": [
    "from enum import Enum\n",
    "class BadPxsMode(Enum):\n",
    "    # modes for bad pixels correction\n",
    "    hot = 'Identify Hot pxs'\n",
    "    dead = 'Identify Dead pxs'\n",
    "    both = 'Identify Both'"
   ]
  },
  {
   "cell_type": "code",
   "execution_count": null,
   "id": "0fd0b2c5-9859-4106-9dec-1eb4bb6e47ab",
   "metadata": {},
   "outputs": [],
   "source": []
  },
  {
   "cell_type": "code",
   "execution_count": null,
   "id": "a96e27c7-44e6-4df8-a5de-9ded59843853",
   "metadata": {},
   "outputs": [],
   "source": []
  },
  {
   "cell_type": "code",
   "execution_count": null,
   "id": "0e8546d6-da36-40a6-8c5c-54c99ffa5833",
   "metadata": {},
   "outputs": [],
   "source": []
  },
  {
   "cell_type": "markdown",
   "id": "45dc50b9-24c2-4a5f-ad26-76c8ba5386f5",
   "metadata": {},
   "source": [
    "## testing the arrays"
   ]
  },
  {
   "cell_type": "code",
   "execution_count": 2,
   "id": "c816ef3c-8d6f-45bf-ba42-29f974c54b64",
   "metadata": {},
   "outputs": [],
   "source": [
    "import numpy as np"
   ]
  },
  {
   "cell_type": "code",
   "execution_count": 12,
   "id": "a548cf3d-d223-4870-b895-221cad6d16f8",
   "metadata": {},
   "outputs": [],
   "source": [
    "a = np.linspace(0, 49).reshape((2, 5, 5))"
   ]
  },
  {
   "cell_type": "code",
   "execution_count": 13,
   "id": "a741f969-435a-4ef9-b8af-1e8a49f794ef",
   "metadata": {},
   "outputs": [
    {
     "data": {
      "text/plain": [
       "(2, 5, 5)"
      ]
     },
     "execution_count": 13,
     "metadata": {},
     "output_type": "execute_result"
    }
   ],
   "source": [
    "a.shape"
   ]
  },
  {
   "cell_type": "code",
   "execution_count": 14,
   "id": "5debb4a9-b857-47a4-a8b1-fc3aa1d9f3fc",
   "metadata": {},
   "outputs": [],
   "source": [
    "b = np.ones((5, 5))*2"
   ]
  },
  {
   "cell_type": "code",
   "execution_count": 15,
   "id": "226c5f58-13bd-4d44-98cb-e3067df254a9",
   "metadata": {},
   "outputs": [
    {
     "data": {
      "text/plain": [
       "array([[2., 2., 2., 2., 2.],\n",
       "       [2., 2., 2., 2., 2.],\n",
       "       [2., 2., 2., 2., 2.],\n",
       "       [2., 2., 2., 2., 2.],\n",
       "       [2., 2., 2., 2., 2.]])"
      ]
     },
     "execution_count": 15,
     "metadata": {},
     "output_type": "execute_result"
    }
   ],
   "source": [
    "b"
   ]
  },
  {
   "cell_type": "code",
   "execution_count": 16,
   "id": "1e766313-fc21-4ced-b374-ec00806bd349",
   "metadata": {},
   "outputs": [
    {
     "data": {
      "text/plain": [
       "array([[[ 0. ,  0.5,  1. ,  1.5,  2. ],\n",
       "        [ 2.5,  3. ,  3.5,  4. ,  4.5],\n",
       "        [ 5. ,  5.5,  6. ,  6.5,  7. ],\n",
       "        [ 7.5,  8. ,  8.5,  9. ,  9.5],\n",
       "        [10. , 10.5, 11. , 11.5, 12. ]],\n",
       "\n",
       "       [[12.5, 13. , 13.5, 14. , 14.5],\n",
       "        [15. , 15.5, 16. , 16.5, 17. ],\n",
       "        [17.5, 18. , 18.5, 19. , 19.5],\n",
       "        [20. , 20.5, 21. , 21.5, 22. ],\n",
       "        [22.5, 23. , 23.5, 24. , 24.5]]])"
      ]
     },
     "execution_count": 16,
     "metadata": {},
     "output_type": "execute_result"
    }
   ],
   "source": [
    "a/b"
   ]
  },
  {
   "cell_type": "code",
   "execution_count": null,
   "id": "5ffb6729-f50a-4ad2-820f-c7115d7fb776",
   "metadata": {},
   "outputs": [],
   "source": []
  }
 ],
 "metadata": {
  "kernelspec": {
   "display_name": "tomopy",
   "language": "python",
   "name": "tomopy"
  },
  "language_info": {
   "codemirror_mode": {
    "name": "ipython",
    "version": 3
   },
   "file_extension": ".py",
   "mimetype": "text/x-python",
   "name": "python",
   "nbconvert_exporter": "python",
   "pygments_lexer": "ipython3",
   "version": "3.11.6"
  }
 },
 "nbformat": 4,
 "nbformat_minor": 5
}
