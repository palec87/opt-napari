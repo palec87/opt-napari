{
 "cells": [
  {
   "cell_type": "code",
   "execution_count": 5,
   "id": "9b1a6212-5efe-4e35-8d80-3dada4bac23e",
   "metadata": {},
   "outputs": [
    {
     "data": {
      "text/plain": [
       "<napari._qt.widgets.qt_viewer_dock_widget.QtViewerDockWidget at 0x226074d6d40>"
      ]
     },
     "execution_count": 5,
     "metadata": {},
     "output_type": "execute_result"
    },
    {
     "name": "stdout",
     "output_type": "stream",
     "text": [
      "False\n"
     ]
    }
   ],
   "source": [
    "import napari\n",
    "from _qtwidget import PreprocessingnWidget\n",
    "from skimage import data\n",
    "\n",
    "viewer = napari.Viewer()\n",
    "viewer.add_image(data.camera(), name=\"camera\")\n",
    "viewer.add_image(data.camera(), name=\"camera1\")\n",
    "\n",
    "widget = PreprocessingnWidget(viewer)\n",
    "viewer.window.add_dock_widget(widget, area=\"right\")"
   ]
  },
  {
   "cell_type": "code",
   "execution_count": null,
   "id": "d64340dc-acd9-4783-9b7b-d1d717a14fe9",
   "metadata": {},
   "outputs": [],
   "source": []
  }
 ],
 "metadata": {
  "kernelspec": {
   "display_name": "tomopy",
   "language": "python",
   "name": "tomopy"
  },
  "language_info": {
   "codemirror_mode": {
    "name": "ipython",
    "version": 3
   },
   "file_extension": ".py",
   "mimetype": "text/x-python",
   "name": "python",
   "nbconvert_exporter": "python",
   "pygments_lexer": "ipython3",
   "version": "3.11.6"
  }
 },
 "nbformat": 4,
 "nbformat_minor": 5
}
