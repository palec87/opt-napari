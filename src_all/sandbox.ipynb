{
 "cells": [
  {
   "cell_type": "code",
   "execution_count": 1,
   "id": "9b1a6212-5efe-4e35-8d80-3dada4bac23e",
   "metadata": {},
   "outputs": [
    {
     "name": "stderr",
     "output_type": "stream",
     "text": [
      "napari.manifest -> 'napari-correctDark' could not be imported: Cannot find module 'napari_correctDark' declared in entrypoint: 'napari_correctDark:napari.yaml'\n",
      "napari.manifest -> 'napari-fbpCPU' could not be imported: Cannot find module 'napari_fbpCPU' declared in entrypoint: 'napari_fbpCPU:napari.yaml'\n",
      "napari.manifest -> 'napari-selectROI' could not be imported: Cannot find module 'napari_selectROI' declared in entrypoint: 'napari_selectROI:napari.yaml'\n"
     ]
    },
    {
     "data": {
      "text/plain": [
       "<napari._qt.widgets.qt_viewer_dock_widget.QtViewerDockWidget at 0x20e450df9a0>"
      ]
     },
     "execution_count": 1,
     "metadata": {},
     "output_type": "execute_result"
    }
   ],
   "source": [
    "import napari\n",
    "from _qtwidget import PreprocessingnWidget\n",
    "from skimage import data\n",
    "\n",
    "viewer = napari.Viewer()\n",
    "viewer.add_image(data.camera(), name=\"camera\")\n",
    "viewer.add_image(data.camera(), name=\"camera1\")\n",
    "\n",
    "widget = PreprocessingnWidget(viewer)\n",
    "viewer.window.add_dock_widget(widget, area=\"right\")"
   ]
  },
  {
   "cell_type": "code",
   "execution_count": 2,
   "id": "d64340dc-acd9-4783-9b7b-d1d717a14fe9",
   "metadata": {},
   "outputs": [],
   "source": [
    "from enum import Enum\n",
    "class BadPxsMode(Enum):\n",
    "    # modes for bad pixels correction\n",
    "    hot = 'Identify Hot pxs'\n",
    "    dead = 'Identify Dead pxs'\n",
    "    both = 'Identify Both'"
   ]
  },
  {
   "cell_type": "code",
   "execution_count": null,
   "id": "0fd0b2c5-9859-4106-9dec-1eb4bb6e47ab",
   "metadata": {},
   "outputs": [],
   "source": []
  }
 ],
 "metadata": {
  "kernelspec": {
   "display_name": "tomopy",
   "language": "python",
   "name": "tomopy"
  },
  "language_info": {
   "codemirror_mode": {
    "name": "ipython",
    "version": 3
   },
   "file_extension": ".py",
   "mimetype": "text/x-python",
   "name": "python",
   "nbconvert_exporter": "python",
   "pygments_lexer": "ipython3",
   "version": "3.11.6"
  }
 },
 "nbformat": 4,
 "nbformat_minor": 5
}
